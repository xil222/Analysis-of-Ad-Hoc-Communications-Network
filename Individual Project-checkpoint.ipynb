{
 "cells": [
  {
   "cell_type": "markdown",
   "metadata": {},
   "source": [
    "# Analysis of Ad-Hoc Communications Network\n",
    "\n",
    "## In this Notebook, I'll include three parts:\n",
    "\n",
    "### 1. Helper functions\n",
    "### 2. Main functions for Trimming\n",
    "### 3. Some attached comments for answering questions in assignment"
   ]
  },
  {
   "cell_type": "markdown",
   "metadata": {},
   "source": [
    "### Libraries implemented for this assignment: \n",
    "#### matplot, cv2 for plotting, visualization, random for generating random position & index, numpy for calculations."
   ]
  },
  {
   "cell_type": "code",
   "execution_count": 185,
   "metadata": {},
   "outputs": [],
   "source": [
    "import numpy as np\n",
    "import cv2\n",
    "import random\n",
    "from random import randint\n",
    "import matplotlib.pyplot as plt\n"
   ]
  },
  {
   "cell_type": "markdown",
   "metadata": {},
   "source": [
    "### Initialize the Height and Weight(which will be used in later functions)\n"
   ]
  },
  {
   "cell_type": "code",
   "execution_count": 186,
   "metadata": {},
   "outputs": [],
   "source": [
    "#height and width of desired coverage footprint\n",
    "width, height = 10, 10"
   ]
  },
  {
   "cell_type": "markdown",
   "metadata": {},
   "source": [
    "### Generate RandomColors for each tower to help better visualization"
   ]
  },
  {
   "cell_type": "code",
   "execution_count": 187,
   "metadata": {},
   "outputs": [],
   "source": [
    "def GenerateRandomColor():  #setup 2 digit decimal\n",
    "    R = float('{0:.2f}'.format(random.random()*255))\n",
    "    G = float('{0:.2f}'.format(random.random()*255))\n",
    "    B = float('{0:.2f}'.format(random.random()*255))\n",
    "    return (R,G,B)"
   ]
  },
  {
   "cell_type": "markdown",
   "metadata": {},
   "source": [
    "### Generate Background, by default white color"
   ]
  },
  {
   "cell_type": "code",
   "execution_count": 188,
   "metadata": {},
   "outputs": [],
   "source": [
    "def createBackground(height,width,color=255):  #by default white background\n",
    "    assert isinstance(width,int)\n",
    "    assert isinstance(height,int)\n",
    "    fig = color * np.ones((height,width,3),np.uint8)\n",
    "    plt.xlim([0,width])\n",
    "    plt.ylim([0,height])\n",
    "    plt.imshow(fig,'gray')\n",
    "    return fig"
   ]
  },
  {
   "cell_type": "markdown",
   "metadata": {},
   "source": [
    "### Set up a visit matrix, recording positions covered by towers with the same size of the background"
   ]
  },
  {
   "cell_type": "code",
   "execution_count": 189,
   "metadata": {},
   "outputs": [],
   "source": [
    "def setupvisitmatrix(height,width):\n",
    "    visit = np.zeros((height,width))\n",
    "    return visit\n"
   ]
  },
  {
   "cell_type": "markdown",
   "metadata": {},
   "source": [
    "### Update visit matrix\n"
   ]
  },
  {
   "cell_type": "code",
   "execution_count": 190,
   "metadata": {},
   "outputs": [],
   "source": [
    "def fillpoints(visit,xleft,ytop,xright,ybottom):\n",
    "    visit[ytop:ybottom,xleft:xright] = 1\n",
    "    return visit      "
   ]
  },
  {
   "cell_type": "markdown",
   "metadata": {},
   "source": [
    "## The Core function of this project: \n",
    "\n",
    "#### For each valid inserted rectangle, find the largest rectangle area which hasn't been covered yet\n",
    "#### returns the coordinate of largest rectangle "
   ]
  },
  {
   "cell_type": "code",
   "execution_count": 191,
   "metadata": {},
   "outputs": [],
   "source": [
    "\n",
    "def findBestTrim(visit,xleft,ytop,xright,ybottom):\n",
    "    largestarea = 0\n",
    "    bestset = []\n",
    "    for y1 in range(ytop,ybottom+1): #might have issue\n",
    "        for y2 in range(ytop,y1):\n",
    "            for x1 in range(xleft,xright+1):\n",
    "                for x2 in range(xleft,x1):\n",
    "                    #check whether rectangle all uncovered\n",
    "                    if np.count_nonzero(visit[y2:y1,x2:x1]) == 0:\n",
    "                        cntarea = int((x1-x2)*(y1-y2))\n",
    "                        #if all uncovered and area greater than current area\n",
    "                        if cntarea>largestarea:\n",
    "                            largestarea = cntarea\n",
    "                            bestset = [largestarea,x2,y2,x1,y1]\n",
    "    return bestset[1],bestset[2],bestset[3],bestset[4] #xl,yt,xr,yb"
   ]
  },
  {
   "cell_type": "markdown",
   "metadata": {},
   "source": [
    "#### Trimming Function: The key concept/algorithm in implementing finding the greatest non-overlap rectangle is comparing all the valid rectangles(every point not visited yet) in the visit matrix, and pick the one who has largest area. Then Update the trimming function based on that result. The strategy is kind of similar to scanning line. The Time Complexity of Iterating Through the FindBestTrim is O(n^4) ~ O(n^6), O(n^4) stands for 2 pointers in height, and 2 pointers in width.\n",
    "\n",
    "#### Some extra comments in implementing above function: Python has its efficiency when implementing calculations in matrix instead of loops, so by directly calculating on visit matrix, it saves some time. Therefore, the O(n^2) complexity of counting 0s or 1s in visit matrix is greatly reduced, and overall Time Complexity for FindBestTrim should be much fewer than O(n^6)"
   ]
  },
  {
   "cell_type": "markdown",
   "metadata": {},
   "source": [
    "### get the current area(number of points) inside visit matrix"
   ]
  },
  {
   "cell_type": "code",
   "execution_count": 192,
   "metadata": {},
   "outputs": [],
   "source": [
    "#get the current coverage area inside the rectangle\n",
    "def getarea(visit):\n",
    "    return int(np.sum(visit))"
   ]
  },
  {
   "cell_type": "markdown",
   "metadata": {},
   "source": [
    "### determine whether the rectangle has been fully covered"
   ]
  },
  {
   "cell_type": "code",
   "execution_count": 193,
   "metadata": {},
   "outputs": [],
   "source": [
    "def full(visit):\n",
    "    fullarea = visit.shape[0] * visit.shape[1]\n",
    "    return getarea(visit) == fullarea "
   ]
  },
  {
   "cell_type": "markdown",
   "metadata": {},
   "source": [
    "### determine whether thereis unvisited points in certain region"
   ]
  },
  {
   "cell_type": "code",
   "execution_count": 194,
   "metadata": {},
   "outputs": [],
   "source": [
    "def hasempty(visit,xleft,ytop,xright,ybottom):\n",
    "    return int(np.sum(visit[ytop:ybottom,xleft:xright])) < int((ybottom-ytop)*(xright-xleft))\n"
   ]
  },
  {
   "cell_type": "markdown",
   "metadata": {},
   "source": [
    "### determine whether out of bound & xleft >= xright\n"
   ]
  },
  {
   "cell_type": "code",
   "execution_count": 195,
   "metadata": {},
   "outputs": [],
   "source": [
    "def checkvalid(xleft,ytop,xright,ybottom):\n",
    "    if xleft < xright and ytop < ybottom:\n",
    "        return True\n",
    "    return False"
   ]
  },
  {
   "cell_type": "markdown",
   "metadata": {},
   "source": [
    "### check whether a point is visited or not"
   ]
  },
  {
   "cell_type": "code",
   "execution_count": 196,
   "metadata": {},
   "outputs": [],
   "source": [
    "def checkuncovered(visit,y,x):\n",
    "    if visit[y][x] == 0:\n",
    "        return True\n",
    "    return False"
   ]
  },
  {
   "cell_type": "markdown",
   "metadata": {},
   "source": [
    "## Add Rectangle Communication Towers(Basic Template)\n",
    "\n",
    "### This function aims to help visualize the process of placing tower, trimming, until fully covered\n",
    "\n",
    "### Functions to answer questions come later"
   ]
  },
  {
   "cell_type": "code",
   "execution_count": 197,
   "metadata": {},
   "outputs": [],
   "source": [
    "## @param figure draw and update\n",
    "## @param visit visit matrix\n",
    "## @return number of towers, plots at each step, \n",
    "## terminate till the region is fully covered\n",
    "\n",
    "def addRectangle(figure,visit):   \n",
    "    count,tower = 0,0\n",
    "    f = plt.figure(figsize=(15,15))\n",
    "    while True:\n",
    "        prevarea = getarea(visit)\n",
    "        while True: #make sure each tower contribute area into the block\n",
    "            xleft,ytop,xright,ybottom = randint(0,visit.shape[0]),randint(0,visit.shape[1]),randint(0,visit.shape[0]),randint(0,visit.shape[1])             \n",
    "            if checkvalid(xleft,ytop,xright,ybottom) and hasempty(visit,xleft,ytop,xright,ybottom):\n",
    "                break\n",
    "                \n",
    "        tempvisit = visit.copy()        \n",
    "        tempfigure = figure.copy()\n",
    "        \n",
    "        visit = fillpoints(visit,xleft,ytop,xright,ybottom)\n",
    "        count += 1\n",
    "        tower += 1\n",
    "        \n",
    "        #forcefully, to better visualize, we will not allow generate white color\n",
    "        while True:\n",
    "            RGB = GenerateRandomColor()\n",
    "            if RGB[0] != 255 or RGB[1] != 255 or RGB[2] != 255: \n",
    "                break\n",
    "                \n",
    "        cv2.rectangle(figure,(xleft,ytop),(xright-1,ybottom-1),RGB,-1)\n",
    "        f.add_subplot(10,10,count) #at most print 100 plots, adjust (10,10) depends on number of towers\n",
    "        plt.title('Tw ' + str(tower) + ' enters')\n",
    "        plt.imshow(figure,'gray')\n",
    "        \n",
    "        #when the rectangle is fully covered, returns number of communication towers\n",
    "        if full(visit):\n",
    "            return tower,count #return number of towers and number of actions in total\n",
    "        \n",
    "        #determine whether needs to trim in this case\n",
    "        elif prevarea + (ybottom-ytop)*(xright-xleft) != getarea(visit):\n",
    "            xl,yt,xr,yb = findBestTrim(tempvisit,xleft,ytop,xright,ybottom)\n",
    "            cv2.rectangle(tempfigure,(xl,yt),(xr-1,yb-1),RGB,-1)\n",
    "            tempvisit = fillpoints(tempvisit,xl,yt,xr,yb)\n",
    "            count += 1\n",
    "            f.add_subplot(10,10,count)\n",
    "            plt.title('Tw ' + str(tower) + ' trims')\n",
    "            plt.imshow(tempfigure,'gray')\n",
    "            figure = tempfigure.copy()\n",
    "            visit = tempvisit.copy()            \n",
    "        else:\n",
    "            continue\n",
    "\n",
    "\n"
   ]
  },
  {
   "cell_type": "markdown",
   "metadata": {},
   "source": [
    "### The main ideas of this function: \n",
    "#### 1. Generate random indexs of rectangle and loop it to make sure it is valid\n",
    "#### 2. Deep copy visit matrix to a temp and update visit matrices\n",
    "#### 3. Judge whether needs to trim by comparing original visit matrix + new rectangle area with updated visit matrix\n",
    "#### 4. If yes, findBestTrim, (mentioned above) and update the trimming process. If no, next iteration\n",
    "#### 5. Stop until the footprint is fully covered\n",
    "\n",
    "### below is how this works"
   ]
  },
  {
   "cell_type": "code",
   "execution_count": 198,
   "metadata": {},
   "outputs": [
    {
     "data": {
      "text/plain": [
       "(19, 34)"
      ]
     },
     "execution_count": 198,
     "metadata": {},
     "output_type": "execute_result"
    },
    {
     "data": {
      "image/png": "[encoded data removed]",
      "text/plain": [
       "<Figure size 432x288 with 1 Axes>"
      ]
     },
     "metadata": {},
     "output_type": "display_data"
    },
    {
     "data": {
      "image/png": "[encoded data removed]",
      "text/plain": [
       "<Figure size 1080x1080 with 34 Axes>"
      ]
     },
     "metadata": {},
     "output_type": "display_data"
    }
   ],
   "source": [
    "#run this!\n",
    "\n",
    "img = createBackground(height,width)\n",
    "visit = setupvisitmatrix(height,width)\n",
    "addRectangle(img,visit)\n",
    "#(a,b) returned below are (towers, actions of place+trim)"
   ]
  },
  {
   "cell_type": "markdown",
   "metadata": {},
   "source": [
    "#### Some Comments about the visualization: use subplot to simulate all the plots until fully covered. The last iteration is not trimmed because the foodprint is full no matter trimming it or not."
   ]
  },
  {
   "cell_type": "markdown",
   "metadata": {},
   "source": [
    "### The Editted addRectangle function\n",
    "\n",
    "#### The Goal of this function is to return area, number of average communication towers instead of visualization"
   ]
  },
  {
   "cell_type": "code",
   "execution_count": 223,
   "metadata": {},
   "outputs": [],
   "source": [
    "## @param visit visit matrix\n",
    "## @param n number of towers \n",
    "## terminate till the region is fully covered or n towers have been placed\n",
    "\n",
    "def CommunicationTowers(visit,n):   \n",
    "    sumarea,tower = 0,0\n",
    "    desiredarea = int(visit.shape[0]*visit.shape[1])\n",
    "    while True:\n",
    "        prevarea = getarea(visit)\n",
    "        while True: #make sure each tower contribute area into the block\n",
    "            xleft,ytop,xright,ybottom = randint(0,visit.shape[0]),randint(0,visit.shape[1]),randint(0,visit.shape[0]),randint(0,visit.shape[1])             \n",
    "            if checkvalid(xleft,ytop,xright,ybottom) and hasempty(visit,xleft,ytop,xright,ybottom):\n",
    "                break\n",
    "                \n",
    "        tempvisit = visit.copy()                \n",
    "        visit = fillpoints(visit,xleft,ytop,xright,ybottom)\n",
    "        sumarea += (ybottom-ytop)*(xright-xleft)\n",
    "        tower += 1\n",
    "        \n",
    "        if tower == n:\n",
    "            print('%d towers has been placed' % tower)\n",
    "            print('Desired Area: %d' % desiredarea)\n",
    "            print('Current coverage %d'% getarea(visit))\n",
    "            print('SumArea of all Untrimmed Towers %d'% sumarea)\n",
    "            return tower\n",
    "        \n",
    "        #when the rectangle is fully covered, when n is not reached returns number of communication towers\n",
    "        if full(visit):\n",
    "            print('Fully covered with %d towers'% tower)\n",
    "            print('Desired Area: %d' % desiredarea)\n",
    "            print('SumArea of all Untrimmed Towers %d'% sumarea)\n",
    "            return tower\n",
    "        \n",
    "        #determine whether needs to trim in this case\n",
    "        elif prevarea + (ybottom-ytop)*(xright-xleft) != getarea(visit):\n",
    "            xl,yt,xr,yb = findBestTrim(tempvisit,xleft,ytop,xright,ybottom)\n",
    "            tempvisit = fillpoints(tempvisit,xl,yt,xr,yb)\n",
    "            visit = tempvisit.copy()                    \n",
    "\n",
    "\n"
   ]
  },
  {
   "cell_type": "code",
   "execution_count": 231,
   "metadata": {},
   "outputs": [
    {
     "name": "stdout",
     "output_type": "stream",
     "text": [
      "Fully covered with 16 towers\n",
      "Desired Area: 100\n",
      "SumArea of all Untrimmed Towers 439\n"
     ]
    },
    {
     "data": {
      "text/plain": [
       "16"
      ]
     },
     "execution_count": 231,
     "metadata": {},
     "output_type": "execute_result"
    }
   ],
   "source": [
    "#run this!\n",
    "\n",
    "visit = setupvisitmatrix(height,width)\n",
    "CommunicationTowers(visit,20)\n"
   ]
  },
  {
   "cell_type": "markdown",
   "metadata": {},
   "source": [
    "### Some Comments about Coverage:\n",
    "\n",
    "#### There are always big gaps between the SumArea of all Untrimmed Towers and Current Coverage. In terms of the basic case, where height and width of is (10,10) and it takes about 20 towers to fully cover the area. The ratio of SumArea when fully covering footprint to DesiredArea is around 4.5:1. The ratio grows larger as more towers get put into since there are more redundant coverage as currentarea becomes greater."
   ]
  },
  {
   "cell_type": "code",
   "execution_count": 216,
   "metadata": {},
   "outputs": [],
   "source": [
    "## FindAvgTower functions"
   ]
  },
  {
   "cell_type": "code",
   "execution_count": 202,
   "metadata": {},
   "outputs": [],
   "source": [
    "## @param height, width matrix\n",
    "## @param iter as a input, by default 20\n",
    "## return avg number of towers\n",
    "\n",
    "def FindAvgTower(height,width,iter=20): #run 20 times Find Avg No. of Towers to cover footprint\n",
    "    count = 0\n",
    "    res = []\n",
    "    while count < iter:\n",
    "        visit = setupvisitmatrix(height,width)\n",
    "        tower = 0\n",
    "        while True:\n",
    "            prevarea = getarea(visit)\n",
    "            while True: #make sure each tower contribute area into the block\n",
    "                xleft,ytop,xright,ybottom = randint(0,visit.shape[0]),randint(0,visit.shape[1]),randint(0,visit.shape[0]),randint(0,visit.shape[1])             \n",
    "                if checkvalid(xleft,ytop,xright,ybottom) and hasempty(visit,xleft,ytop,xright,ybottom):\n",
    "                    break\n",
    "\n",
    "            tempvisit = visit.copy()                \n",
    "            visit = fillpoints(visit,xleft,ytop,xright,ybottom)\n",
    "            tower += 1\n",
    "            \n",
    "            if full(visit):\n",
    "                break\n",
    "                \n",
    "            #whether needs to trim in this case\n",
    "            elif prevarea + (ybottom-ytop)*(xright-xleft) != getarea(visit):\n",
    "                xl,yt,xr,yb = findBestTrim(tempvisit,xleft,ytop,xright,ybottom)\n",
    "                tempvisit = fillpoints(tempvisit,xl,yt,xr,yb)\n",
    "                visit = tempvisit.copy()\n",
    "        res.append(tower)\n",
    "        count += 1\n",
    "    \n",
    "    print('Desired Area %d'% int(height*width))\n",
    "    print(\"Number of Towers each iter\" , res)\n",
    "    \n",
    "    #return the mean number\n",
    "    return np.mean(res)"
   ]
  },
  {
   "cell_type": "code",
   "execution_count": 207,
   "metadata": {},
   "outputs": [
    {
     "name": "stdout",
     "output_type": "stream",
     "text": [
      "Desired Area 25\n",
      "Number of Towers each iter [12, 12, 9, 6, 10, 10, 13, 9, 12, 11, 8, 9, 7, 3, 14, 14, 10, 14, 10, 13]\n"
     ]
    },
    {
     "data": {
      "text/plain": [
       "10.3"
      ]
     },
     "execution_count": 207,
     "metadata": {},
     "output_type": "execute_result"
    }
   ],
   "source": [
    "#run this!\n",
    "\n",
    "FindAvgTower(5,5,20)"
   ]
  },
  {
   "cell_type": "markdown",
   "metadata": {},
   "source": [
    "### Some Comments about number of Communication Towers for full coverage:\n",
    "\n",
    "#### Although, the position of tower is random distributed which there can be some ways to interpret relationship between the number of towers and size of footprint. Besides, due to the trimming process, there becomes more variability in number of towers covering the entire footprint. By setting 100 iterations, for footprint with size(5,5) the avgnum of tower is 10, avgnum of towers to cover (10,10) is around 20, avgnum of towers to cover (20,20) footprint is around 40. "
   ]
  },
  {
   "cell_type": "code",
   "execution_count": null,
   "metadata": {},
   "outputs": [],
   "source": []
  }
 ],
 "metadata": {
  "kernelspec": {
   "display_name": "Python 3",
   "language": "python",
   "name": "python3"
  },
  "language_info": {
   "codemirror_mode": {
    "name": "ipython",
    "version": 3
   },
   "file_extension": ".py",
   "mimetype": "text/x-python",
   "name": "python",
   "nbconvert_exporter": "python",
   "pygments_lexer": "ipython3",
   "version": "3.6.0"
  }
 },
 "nbformat": 4,
 "nbformat_minor": 2
}
